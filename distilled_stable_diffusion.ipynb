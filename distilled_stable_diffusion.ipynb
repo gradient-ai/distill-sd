{
 "cells": [
  {
   "cell_type": "markdown",
   "id": "6de3c84a-b705-4104-9222-5de5f4bd7ddf",
   "metadata": {},
   "source": [
    "# Install the necessary libraries and packages"
   ]
  },
  {
   "cell_type": "code",
   "execution_count": null,
   "id": "807908b7-fed2-4687-ac89-8212a505e595",
   "metadata": {},
   "outputs": [],
   "source": [
    "#install the packages using pip\n",
    "!pip install --quiet git+https://github.com/huggingface/diffusers.git@d420d71398d9c5a8d9a5f95ba2bdb6fe3d8ae31f\n",
    "!pip install --quiet ipython-autotime\n",
    "!pip install --quiet transformers==4.34.1 accelerate==0.24.0 safetensors==0.4.0\n",
    "!pip install --quiet ipyplot\n",
    "!pip install gradio\n",
    "%load_ext autotime"
   ]
  },
  {
   "cell_type": "code",
   "execution_count": null,
   "id": "93c7377f-da68-4d2b-9b41-55d2fb1b419e",
   "metadata": {},
   "outputs": [],
   "source": [
    "#import the necessary libraries\n",
    "import gradio as gr\n",
    "from diffusers import StableDiffusionXLPipeline, StableDiffusionPipeline, DiffusionPipeline \n",
    "import torch\n",
    "import ipyplot\n",
    "import time"
   ]
  },
  {
   "cell_type": "markdown",
   "id": "573cb30f-25a0-4c53-8e43-e9ad2e8c6e38",
   "metadata": {},
   "source": [
    "# Create pipeline for DSD here we are using segmind ssd-1b pretrained model"
   ]
  },
  {
   "cell_type": "code",
   "execution_count": null,
   "id": "8546cba7-0bfd-49c0-853d-2e09a60e69e1",
   "metadata": {},
   "outputs": [],
   "source": [
    "#create pipeline for ssd-1b\n",
    "pipe = StableDiffusionXLPipeline.from_pretrained(\"segmind/SSD-1B\", torch_dtype=torch.float16, use_safetensors=True, variant=\"fp16\")\n",
    "pipe.to(\"cuda\")\n",
    "\n",
    "prompt = \"Renaissance-style portrait of an astronaut in space, detailed starry background, reflective helmet..\"\n",
    "neg_prompt = \"ugly, tiling, poorly drawn hands, poorly Rendered face, poorly drawn face, out of frame, poor facial details, disfigured, deformed, body out of frame, blurry, bad anatomy, blurred, watermark, grainy, signature, cut off, draft\"\n",
    "\n",
    "image = pipe(prompt=prompt, negative_prompt=neg_prompt).images[0]\n",
    "\n",
    "image.save(\"test.jpg\")\n",
    "\n",
    "ipyplot.plot_images([image],img_width=400)"
   ]
  },
  {
   "cell_type": "code",
   "execution_count": null,
   "id": "5a53c601-ed4d-4f25-bbe7-779f744f74bb",
   "metadata": {},
   "outputs": [],
   "source": [
    "#modify the code add the inference steps and guidance scale\n",
    "prompt = \"The Renaissance Astrounaut\"\n",
    "neg_prompt = \"poorly Rendered face, poorly drawn face, poor facial details, poorly drawn hands, poorly rendered hands, low resolution,Images cut out at the top, left, right, bottom, bad composition, mutated body parts, blurry image, disfigured, oversaturated, bad anatomy, deformed body features\"\n",
    "\n",
    "allimages = pipe(prompt=prompt, negative_prompt=neg_prompt,\n",
    "                 guidance_scale=7.5,num_inference_steps=30,\n",
    "                 num_images_per_prompt=2).images\n",
    "\n",
    "images = [image for image in allimages]\n",
    "\n",
    "for idx, image_file in enumerate(allimages, 1):\n",
    "    image_file.save(f\"test{idx}.jpg\")\n",
    "\n",
    "ipyplot.plot_images(images,img_width=400)"
   ]
  },
  {
   "cell_type": "code",
   "execution_count": null,
   "id": "b3c9e91a-7bac-4fb6-9856-6434920050db",
   "metadata": {},
   "outputs": [],
   "source": [
    "#create a function to use in the gradio web ui\n",
    "def gen_image(text, neg_prompt):\n",
    "    return pipe(text,\n",
    "                negative_prompt=neg_prompt,\n",
    "                guidance_scale=7.5,\n",
    "                num_inference_steps=30).images[0]"
   ]
  },
  {
   "cell_type": "code",
   "execution_count": null,
   "id": "13767cf7-af02-4bcc-b9ba-79acf6db6ec7",
   "metadata": {},
   "outputs": [],
   "source": [
    "#use the gen function \n",
    "gen_image(\"an orange cat staring off with pretty eyes\", \n",
    "         \"ugly, tiling, poorly drawn hands, poorly drawn feet, poorly drawn face,out of frame, extra limbs, disfigured, deformed, body out of frame, blurry, bad anatomy, blurred, watermark, grainy, signature, cut off, draft\")"
   ]
  },
  {
   "cell_type": "markdown",
   "id": "6fa64ec4-d8cd-475c-a0f3-07e5df0ac804",
   "metadata": {},
   "source": [
    "# Create the gradio UI"
   ]
  },
  {
   "cell_type": "code",
   "execution_count": null,
   "id": "d9920ed9-9302-4ee4-ac48-fed81b2976ee",
   "metadata": {},
   "outputs": [],
   "source": [
    "#create a gradio web ui\n",
    "txt = gr.Textbox(label=\"prompt\")\n",
    "txt_2 = gr.Textbox(label=\"neg_prompt\")\n",
    "\n",
    "demo = gr.Interface(fn=gen_image, inputs=[txt, txt_2], \n",
    "                    outputs=\"image\", title = \"Generate A.I.image using Distill Stable Diffusion😁\")\n",
    "\n",
    "demo.launch(share=True)"
   ]
  },
  {
   "cell_type": "markdown",
   "id": "a97b48ca-a32a-4380-be0d-94977ef3e592",
   "metadata": {},
   "source": [
    "# segmind/SSD-1B (distilled SD)"
   ]
  },
  {
   "cell_type": "code",
   "execution_count": null,
   "id": "4eaa11fc-4e1a-4e6d-848a-0640eee8690e",
   "metadata": {},
   "outputs": [],
   "source": [
    "#create the pipeline for segmind/SSD-1B diffusion model\n",
    "ssd_1b = StableDiffusionXLPipeline.from_pretrained(\n",
    "    \"segmind/SSD-1B\", torch_dtype=torch.float16, use_safetensors=True, \n",
    "    variant=\"fp16\").to(\"cuda\")"
   ]
  },
  {
   "cell_type": "code",
   "execution_count": null,
   "id": "10a63266-ba9c-468b-b683-31b9d80fb479",
   "metadata": {},
   "outputs": [],
   "source": [
    "seed = 2023\n",
    "generator = torch.manual_seed(seed)\n",
    "\n",
    "NUM_ITERS_TO_RUN = 3\n",
    "NUM_INFERENCE_STEPS = 25\n",
    "NUM_IMAGES_PER_PROMPT = 4\n",
    "\n",
    "prompt = \"The Robotic Baroque Battle\"\n",
    "\n",
    "start = time.time_ns()\n",
    "for _ in range(NUM_ITERS_TO_RUN):\n",
    "    images = ssd_1b(\n",
    "        prompt,\n",
    "        num_inference_steps=NUM_INFERENCE_STEPS,\n",
    "        generator=generator,\n",
    "        num_images_per_prompt=NUM_IMAGES_PER_PROMPT\n",
    "    ).images\n",
    "end = time.time_ns()\n",
    "original_sd = f\"{(end - start) / 1e6:.1f}\"\n",
    "\n",
    "print(f\"Execution time -- {original_sd} ms\\n\")"
   ]
  },
  {
   "cell_type": "code",
   "execution_count": null,
   "id": "58420919-0df8-4b54-844a-ade5e066b3d3",
   "metadata": {},
   "outputs": [],
   "source": [
    "for image in images:\n",
    "    ipyplot.plot_images([image],img_width=400)"
   ]
  },
  {
   "cell_type": "markdown",
   "id": "2c601740-0d6a-4d96-ad98-25fb3b946ec9",
   "metadata": {},
   "source": [
    "# stable-diffusion-xl-base-1.0"
   ]
  },
  {
   "cell_type": "code",
   "execution_count": null,
   "id": "99222457-387a-4e93-a69c-5f6f7d7f3b6e",
   "metadata": {},
   "outputs": [],
   "source": [
    "#create the pipeline for stabilityai/stable-diffusion-xl-base-1.0 diffusion model\n",
    "SDXL_Original = DiffusionPipeline.from_pretrained(\n",
    "    \"stabilityai/stable-diffusion-xl-base-1.0\", torch_dtype=torch.float16, \n",
    "    use_safetensors=True, variant=\"fp16\").to(\"cuda\")"
   ]
  },
  {
   "cell_type": "code",
   "execution_count": null,
   "id": "006d5d37-c7df-430d-9cfe-f849e76f84f2",
   "metadata": {},
   "outputs": [],
   "source": [
    "seed = 2023\n",
    "generator = torch.manual_seed(seed)\n",
    "\n",
    "NUM_ITERS_TO_RUN = 3\n",
    "NUM_INFERENCE_STEPS = 25\n",
    "NUM_IMAGES_PER_PROMPT = 4\n",
    "\n",
    "prompt = \"The Robotic Baroque Battle\"\n",
    "\n",
    "start = time.time_ns()\n",
    "for _ in range(NUM_ITERS_TO_RUN):\n",
    "    images = SDXL_Original(\n",
    "        prompt,\n",
    "        num_inference_steps=NUM_INFERENCE_STEPS,\n",
    "        generator=generator,\n",
    "        num_images_per_prompt=NUM_IMAGES_PER_PROMPT\n",
    "    ).images\n",
    "end = time.time_ns()\n",
    "original_sd = f\"{(end - start) / 1e6:.1f}\"\n",
    "\n",
    "print(f\"Execution time -- {original_sd} ms\\n\")"
   ]
  },
  {
   "cell_type": "code",
   "execution_count": null,
   "id": "b2c9135d-9f4a-4d8b-b5b1-9b316446c266",
   "metadata": {},
   "outputs": [],
   "source": [
    "for image in images:\n",
    "    ipyplot.plot_images([image],img_width=400)"
   ]
  },
  {
   "cell_type": "markdown",
   "id": "0c16a04d-cba3-429e-b0ec-1c1110ff5c3c",
   "metadata": {},
   "source": [
    "# original stable-diffusion-v1-4"
   ]
  },
  {
   "cell_type": "code",
   "execution_count": null,
   "id": "0298a49b-cd53-4600-a1b9-1bc6bad4d185",
   "metadata": {},
   "outputs": [],
   "source": [
    "#create the pipeline for CompVis/stable-diffusion-v1-4 diffusion model\n",
    "original = StableDiffusionPipeline.from_pretrained(\n",
    "    \"CompVis/stable-diffusion-v1-4\", torch_dtype=torch.float16, use_safetensors=True,\n",
    ").to(\"cuda\")"
   ]
  },
  {
   "cell_type": "code",
   "execution_count": null,
   "id": "1ace8000-7d9c-4069-8954-72ff91bfab38",
   "metadata": {},
   "outputs": [],
   "source": [
    "seed = 2023\n",
    "generator = torch.manual_seed(seed)\n",
    "\n",
    "NUM_ITERS_TO_RUN = 3\n",
    "NUM_INFERENCE_STEPS = 25\n",
    "NUM_IMAGES_PER_PROMPT = 4\n",
    "\n",
    "prompt = \"The Robotic Baroque Battle\"\n",
    "\n",
    "start = time.time_ns()\n",
    "for _ in range(NUM_ITERS_TO_RUN):\n",
    "    images = original(\n",
    "        prompt,\n",
    "        num_inference_steps=NUM_INFERENCE_STEPS,\n",
    "        generator=generator,\n",
    "        num_images_per_prompt=NUM_IMAGES_PER_PROMPT\n",
    "    ).images\n",
    "end = time.time_ns()\n",
    "original_sd = f\"{(end - start) / 1e6:.1f}\"\n",
    "\n",
    "print(f\"Execution time -- {original_sd} ms\\n\")"
   ]
  },
  {
   "cell_type": "code",
   "execution_count": null,
   "id": "a53d9ee0-7e1b-4e84-86c6-19c034e9c209",
   "metadata": {},
   "outputs": [],
   "source": [
    "for image in images:\n",
    "    ipyplot.plot_images([image],img_width=400)"
   ]
  },
  {
   "cell_type": "markdown",
   "id": "2ffbb0e1-ac83-4e99-836b-5ca2cbcec001",
   "metadata": {},
   "source": [
    "# bk-sdm-small (distilled model)"
   ]
  },
  {
   "cell_type": "code",
   "execution_count": null,
   "id": "ebed5d0f-fb6e-4071-aab7-a7d3767f2f68",
   "metadata": {},
   "outputs": [],
   "source": [
    "#create the pipeline for nota-ai/bk-sdm-small diffusion model\n",
    "distilled = StableDiffusionPipeline.from_pretrained(\n",
    "    \"nota-ai/bk-sdm-small\", torch_dtype=torch.float16, use_safetensors=True,\n",
    ").to(\"cuda\")"
   ]
  },
  {
   "cell_type": "code",
   "execution_count": null,
   "id": "bdbd04a4-4e8a-4b51-a772-62d95f7a47e7",
   "metadata": {},
   "outputs": [],
   "source": [
    "seed = 2023\n",
    "generator = torch.manual_seed(seed)\n",
    "\n",
    "NUM_ITERS_TO_RUN = 3\n",
    "NUM_INFERENCE_STEPS = 25\n",
    "NUM_IMAGES_PER_PROMPT = 4\n",
    "\n",
    "prompt = \"The Robotic Baroque Battle\"\n",
    "\n",
    "start = time.time_ns()\n",
    "for _ in range(NUM_ITERS_TO_RUN):\n",
    "    images = distilled(\n",
    "        prompt,\n",
    "        num_inference_steps=NUM_INFERENCE_STEPS,\n",
    "        generator=generator,\n",
    "        num_images_per_prompt=NUM_IMAGES_PER_PROMPT\n",
    "    ).images\n",
    "end = time.time_ns()\n",
    "\n",
    "distilled_sd = f\"{(end - start) / 1e6:.1f}\"\n",
    "print(f\"Execution time -- {distilled_sd} ms\\n\")"
   ]
  },
  {
   "cell_type": "code",
   "execution_count": null,
   "id": "268ad19b-ae35-4b45-a2e7-6f87a68272f5",
   "metadata": {},
   "outputs": [],
   "source": [
    "for image in images:\n",
    "    ipyplot.plot_images([image],img_width=400)"
   ]
  }
 ],
 "metadata": {
  "kernelspec": {
   "display_name": "Python 3 (ipykernel)",
   "language": "python",
   "name": "python3"
  },
  "language_info": {
   "codemirror_mode": {
    "name": "ipython",
    "version": 3
   },
   "file_extension": ".py",
   "mimetype": "text/x-python",
   "name": "python",
   "nbconvert_exporter": "python",
   "pygments_lexer": "ipython3",
   "version": "3.9.13"
  }
 },
 "nbformat": 4,
 "nbformat_minor": 5
}
